{
 "cells": [
  {
   "cell_type": "code",
   "execution_count": 4,
   "id": "4ee493ef",
   "metadata": {},
   "outputs": [
    {
     "name": "stdout",
     "output_type": "stream",
     "text": [
      "Hello  PNT2022TMID28122\n",
      "Access Accepted\n"
     ]
    }
   ],
   "source": [
    "from tkinter import *\n",
    "from functools import partial\n",
    "\n",
    "def validateLogin(username, password):\n",
    "    print(\"Hello \", username.get())\n",
    "    if(password.get()==\"key\"):\n",
    "        print(\"Access Accepted\")\n",
    "    else:\n",
    "        print(\"Access Denied\")\n",
    "    return\n",
    "\n",
    "tkWindow = Tk()  \n",
    "tkWindow.geometry('400x150')  \n",
    "tkWindow.title('Login Credential')\n",
    "\n",
    "usernameLabel = Label(tkWindow, text=\"Credential\").grid(row=0, column=0)\n",
    "username = StringVar()\n",
    "usernameEntry = Entry(tkWindow, textvariable=username).grid(row=0, column=1)  \n",
    "\n",
    "passwordLabel = Label(tkWindow,text=\"Key\").grid(row=1, column=0)  \n",
    "password = StringVar()\n",
    "passwordEntry = Entry(tkWindow, textvariable=password, show='*').grid(row=1, column=1)  \n",
    "\n",
    "validateLogin = partial(validateLogin, username, password)\n",
    "\n",
    "loginButton = Button(tkWindow, text=\"Request Access\", command=validateLogin).grid(row=4, column=0)  \n",
    "\n",
    "tkWindow.mainloop()"
   ]
  },
  {
   "cell_type": "code",
   "execution_count": null,
   "id": "c4686b26",
   "metadata": {},
   "outputs": [],
   "source": []
  }
 ],
 "metadata": {
  "kernelspec": {
   "display_name": "Python 3 (ipykernel)",
   "language": "python",
   "name": "python3"
  },
  "language_info": {
   "codemirror_mode": {
    "name": "ipython",
    "version": 3
   },
   "file_extension": ".py",
   "mimetype": "text/x-python",
   "name": "python",
   "nbconvert_exporter": "python",
   "pygments_lexer": "ipython3",
   "version": "3.7.0"
  }
 },
 "nbformat": 4,
 "nbformat_minor": 5
}
